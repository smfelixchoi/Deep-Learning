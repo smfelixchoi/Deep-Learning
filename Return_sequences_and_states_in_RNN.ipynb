{
  "nbformat": 4,
  "nbformat_minor": 0,
  "metadata": {
    "kernelspec": {
      "display_name": "Python 3",
      "language": "python",
      "name": "python3"
    },
    "language_info": {
      "codemirror_mode": {
        "name": "ipython",
        "version": 3
      },
      "file_extension": ".py",
      "mimetype": "text/x-python",
      "name": "python",
      "nbconvert_exporter": "python",
      "pygments_lexer": "ipython3",
      "version": "3.7.8"
    },
    "colab": {
      "name": "Return_sequences and states in RNN.ipynb",
      "provenance": [],
      "include_colab_link": true
    },
    "accelerator": "GPU"
  },
  "cells": [
    {
      "cell_type": "markdown",
      "metadata": {
        "id": "view-in-github",
        "colab_type": "text"
      },
      "source": [
        "<a href=\"https://colab.research.google.com/github/smfelixchoi/Deep-Learning/blob/master/Return_sequences_and_states_in_RNN.ipynb\" target=\"_parent\"><img src=\"https://colab.research.google.com/assets/colab-badge.svg\" alt=\"Open In Colab\"/></a>"
      ]
    },
    {
      "cell_type": "markdown",
      "metadata": {
        "id": "MearnjTpsWcA",
        "colab_type": "text"
      },
      "source": [
        "# What is return_sequence and return_state?\n",
        "How should we set these? True or False?\n",
        "\n",
        "Reference: https://machinelearningmastery.com/return-sequences-and-return-states-for-lstms-in-keras/"
      ]
    },
    {
      "cell_type": "markdown",
      "metadata": {
        "id": "a0_XCvb5sWcD",
        "colab_type": "text"
      },
      "source": [
        "## 1. Return Sequences\n",
        "\n",
        "#### TF2: Whether to return the last output. in the output sequence, or the full sequence. Default: False"
      ]
    },
    {
      "cell_type": "code",
      "metadata": {
        "id": "TNMf2MZGsWcE",
        "colab_type": "code",
        "colab": {
          "base_uri": "https://localhost:8080/",
          "height": 238
        },
        "outputId": "74b2f5c0-9a5f-460a-d644-14fe8555aa28"
      },
      "source": [
        "from keras.models import Model\n",
        "from keras.layers import Input\n",
        "from keras.layers import LSTM\n",
        "from numpy import array\n",
        "\n",
        "# define model\n",
        "inputs1 = Input(shape=(3, 1))\n",
        "lstm1 = LSTM(1)(inputs1)\n",
        "model = Model(inputs=inputs1, outputs=lstm1)\n",
        "\n",
        "# define input data\n",
        "data = array([0.1, 0.2, 0.3]).reshape((1,3,1))\n",
        "\n",
        "# model summary\n",
        "model.summary()\n",
        "\n",
        "# make and show prediction\n",
        "print(model.predict(data))"
      ],
      "execution_count": 1,
      "outputs": [
        {
          "output_type": "stream",
          "text": [
            "Model: \"functional_1\"\n",
            "_________________________________________________________________\n",
            "Layer (type)                 Output Shape              Param #   \n",
            "=================================================================\n",
            "input_1 (InputLayer)         [(None, 3, 1)]            0         \n",
            "_________________________________________________________________\n",
            "lstm (LSTM)                  (None, 1)                 12        \n",
            "=================================================================\n",
            "Total params: 12\n",
            "Trainable params: 12\n",
            "Non-trainable params: 0\n",
            "_________________________________________________________________\n",
            "[[0.13667762]]\n"
          ],
          "name": "stdout"
        }
      ]
    },
    {
      "cell_type": "code",
      "metadata": {
        "id": "BmhyBlM6sWcM",
        "colab_type": "code",
        "colab": {
          "base_uri": "https://localhost:8080/",
          "height": 272
        },
        "outputId": "626ae5e8-ad7a-4738-8ec2-3e6b3aaf047b"
      },
      "source": [
        "#Access to the hidden state output for each input time step.\n",
        "\n",
        "from keras.models import Model\n",
        "from keras.layers import Input\n",
        "from keras.layers import LSTM\n",
        "from numpy import array\n",
        "\n",
        "# define model\n",
        "inputs1 = Input(shape=(3, 1))\n",
        "lstm2 = LSTM(1, return_sequences=True)(inputs1)\n",
        "model = Model(inputs=inputs1, outputs=lstm2)\n",
        "\n",
        "# define input data\n",
        "data = array([0.1, 0.2, 0.3]).reshape((1,3,1))\n",
        "\n",
        "# model summary\n",
        "model.summary()\n",
        "\n",
        "# make and show prediction\n",
        "print(model.predict(data))"
      ],
      "execution_count": 2,
      "outputs": [
        {
          "output_type": "stream",
          "text": [
            "Model: \"functional_3\"\n",
            "_________________________________________________________________\n",
            "Layer (type)                 Output Shape              Param #   \n",
            "=================================================================\n",
            "input_2 (InputLayer)         [(None, 3, 1)]            0         \n",
            "_________________________________________________________________\n",
            "lstm_1 (LSTM)                (None, 3, 1)              12        \n",
            "=================================================================\n",
            "Total params: 12\n",
            "Trainable params: 12\n",
            "Non-trainable params: 0\n",
            "_________________________________________________________________\n",
            "[[[0.00144333]\n",
            "  [0.00391376]\n",
            "  [0.00710225]]]\n"
          ],
          "name": "stdout"
        }
      ]
    },
    {
      "cell_type": "markdown",
      "metadata": {
        "id": "p-Mu9pkEsWcQ",
        "colab_type": "text"
      },
      "source": [
        "One hidden state output for each input time step for the single LSTM cell in the layer.\n",
        "\n",
        "Must set 'return_sequences = True' when stacking LSTM layers."
      ]
    },
    {
      "cell_type": "markdown",
      "metadata": {
        "id": "zZggIaMUsWcR",
        "colab_type": "text"
      },
      "source": [
        "## 2. Return States\n",
        "\n",
        "#### TF2: Whether to return the last state in addition to the output. Default: False"
      ]
    },
    {
      "cell_type": "code",
      "metadata": {
        "id": "qUCl7x0xsWcS",
        "colab_type": "code",
        "colab": {
          "base_uri": "https://localhost:8080/",
          "height": 238
        },
        "outputId": "27876add-01ce-45c3-fa1a-88622f3f6d09"
      },
      "source": [
        "from keras.models import Model\n",
        "from keras.layers import Input\n",
        "from keras.layers import LSTM\n",
        "from numpy import array\n",
        "\n",
        "# define model\n",
        "inputs1 = Input(shape=(3, 1))\n",
        "lstm1, state_h, state_c = LSTM(1, return_state=True)(inputs1)\n",
        "model = Model(inputs=inputs1, outputs=[lstm1, state_h, state_c])\n",
        "\n",
        "# define input data\n",
        "data = array([0.1, 0.2, 0.3]).reshape((1,3,1))\n",
        "\n",
        "#model summary\n",
        "model.summary()\n",
        "\n",
        "# make and show prediction\n",
        "print(model.predict(data))"
      ],
      "execution_count": 3,
      "outputs": [
        {
          "output_type": "stream",
          "text": [
            "Model: \"functional_5\"\n",
            "_________________________________________________________________\n",
            "Layer (type)                 Output Shape              Param #   \n",
            "=================================================================\n",
            "input_3 (InputLayer)         [(None, 3, 1)]            0         \n",
            "_________________________________________________________________\n",
            "lstm_2 (LSTM)                [(None, 1), (None, 1), (N 12        \n",
            "=================================================================\n",
            "Total params: 12\n",
            "Trainable params: 12\n",
            "Non-trainable params: 0\n",
            "_________________________________________________________________\n",
            "[array([[0.00038448]], dtype=float32), array([[0.00038448]], dtype=float32), array([[0.00075342]], dtype=float32)]\n"
          ],
          "name": "stdout"
        }
      ]
    },
    {
      "cell_type": "markdown",
      "metadata": {
        "id": "a09lMlizsWcV",
        "colab_type": "text"
      },
      "source": [
        "Running the example returns 3 arrays:\n",
        "\n",
        "1. The LSTM hidden state output for the last time step. \n",
        "2. The LSTM hidden state output for the last time step (again).\n",
        "3. The LSTM cell state for the last time step."
      ]
    },
    {
      "cell_type": "markdown",
      "metadata": {
        "id": "ZOlCePfZsWcV",
        "colab_type": "text"
      },
      "source": [
        "## 3. Return Sequences & States"
      ]
    },
    {
      "cell_type": "code",
      "metadata": {
        "id": "Bnfz-ZPosWcW",
        "colab_type": "code",
        "colab": {
          "base_uri": "https://localhost:8080/",
          "height": 68
        },
        "outputId": "079fe229-0f8b-4853-9573-92022dec7436"
      },
      "source": [
        "from keras.models import Model\n",
        "from keras.layers import Input\n",
        "from keras.layers import LSTM\n",
        "from numpy import array\n",
        "# define model\n",
        "inputs1 = Input(shape=(3, 1))\n",
        "lstm1, state_h, state_c = LSTM(1, return_sequences=True, return_state=True)(inputs1)\n",
        "model = Model(inputs=inputs1, outputs=[lstm1, state_h, state_c])\n",
        "# define input data\n",
        "data = array([0.1, 0.2, 0.3]).reshape((1,3,1))\n",
        "# make and show prediction\n",
        "print(model.predict(data))"
      ],
      "execution_count": 4,
      "outputs": [
        {
          "output_type": "stream",
          "text": [
            "[array([[[-0.02298711],\n",
            "        [-0.06730125],\n",
            "        [-0.13002309]]], dtype=float32), array([[-0.13002309]], dtype=float32), array([[-0.23309608]], dtype=float32)]\n"
          ],
          "name": "stdout"
        }
      ]
    },
    {
      "cell_type": "markdown",
      "metadata": {
        "id": "DEfjKMWIsWcZ",
        "colab_type": "text"
      },
      "source": [
        "Returns 3 arrays, which are the following.\n",
        "1. The hidden state for each input time step\n",
        "2. The hidden state output for the last time step\n",
        "3. The cell state for the last input time step."
      ]
    }
  ]
}