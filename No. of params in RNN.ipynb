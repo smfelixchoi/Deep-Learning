{
  "nbformat": 4,
  "nbformat_minor": 0,
  "metadata": {
    "kernelspec": {
      "display_name": "Python 3",
      "language": "python",
      "name": "python3"
    },
    "language_info": {
      "codemirror_mode": {
        "name": "ipython",
        "version": 3
      },
      "file_extension": ".py",
      "mimetype": "text/x-python",
      "name": "python",
      "nbconvert_exporter": "python",
      "pygments_lexer": "ipython3",
      "version": "3.7.8"
    },
    "colab": {
      "name": "# params in RNN.ipynb",
      "provenance": [],
      "collapsed_sections": [],
      "include_colab_link": true
    }
  },
  "cells": [
    {
      "cell_type": "markdown",
      "metadata": {
        "id": "view-in-github",
        "colab_type": "text"
      },
      "source": [
        "<a href=\"https://colab.research.google.com/github/smfelixchoi/Deep-Learning/blob/master/No.%20of%20params%20in%20RNN.ipynb\" target=\"_parent\"><img src=\"https://colab.research.google.com/assets/colab-badge.svg\" alt=\"Open In Colab\"/></a>"
      ]
    },
    {
      "cell_type": "markdown",
      "metadata": {
        "id": "SVz_TDp-pIEx",
        "colab_type": "text"
      },
      "source": [
        "# How can we count the number of parameters in RNN?\n",
        "\n",
        "Reference (Image)\n",
        "\n",
        "Vanilla RNN: https://ytd2525.wordpress.com/2016/08/03/understanding-deriving-and-extending-the-lstm/\n",
        "\n",
        "LSTM & GRU: https://colah.github.io/posts/2015-08-Understanding-LSTMs/"
      ]
    },
    {
      "cell_type": "markdown",
      "metadata": {
        "id": "Tt7y8cYspIEy",
        "colab_type": "text"
      },
      "source": [
        "TensorFlow only counts the parameters in the RNN Cell, that is, parameters in the hidden layer."
      ]
    },
    {
      "cell_type": "markdown",
      "metadata": {
        "id": "RmBS38Furd_x",
        "colab_type": "text"
      },
      "source": [
        "### 1. Vanilla RNN"
      ]
    },
    {
      "cell_type": "markdown",
      "metadata": {
        "id": "wsk__h1fpIEz",
        "colab_type": "text"
      },
      "source": [
        "$$ \n",
        "\\large\n",
        "\\begin{align*}\n",
        "y_{t} &= W_{hy}h_{t} \\\\\n",
        "h_{t} &= \\tanh(W_{hh}h_{t-1} + W_{xh}x_{h} + b_h)\n",
        "\\end{align*}\n",
        "$$"
      ]
    },
    {
      "cell_type": "markdown",
      "metadata": {
        "id": "NG1Jfx54pIE0",
        "colab_type": "text"
      },
      "source": [
        "### 2. LSTM"
      ]
    },
    {
      "cell_type": "markdown",
      "metadata": {
        "id": "FqsExQSBpIE1",
        "colab_type": "text"
      },
      "source": [
        "$$\n",
        "\\large\n",
        "\\begin{align}\n",
        "f_{t} &= \\sigma(W_{xh}^{f}x_{t} + W_{hh}^{f}h_{t-1} + b^{h}) \\tag{forget gate} \\\\\n",
        "i_{t} &= \\sigma(W_{xh}^{i}x_{t} + W_{hh}^{i}h_{t-1} + b^{i}) \\tag{input gate} \\\\\n",
        "\\tilde C_{t} &= \\tanh(W_{xh}^{\\tilde C}x_{t} + W_{hh}^{\\tilde C}h_{t-1} + b^{\\tilde C}) \\tag{Vanilla RNN} \\\\\n",
        "C_{t} &= f_{t} \\odot C_{t-1} + i_{t} \\odot \\tilde C_{t} \\tag{cell state} \\\\\n",
        "o_{t} &= \\sigma(W_{xh}^{o}x_{t} + W_{hh}^{o}h_{t-1} + b^{o}) \\tag{output gate} \\\\\n",
        "h_{t} &= o_{t} \\odot \\tanh(C_t) \\tag{hidden state}\n",
        "\\end{align}\n",
        "\\\\ \\odot: \\text{element-wise product}\n",
        "$$"
      ]
    },
    {
      "cell_type": "markdown",
      "metadata": {
        "id": "fp7oTxEkpIE4",
        "colab_type": "text"
      },
      "source": [
        "### 3. GRU"
      ]
    },
    {
      "cell_type": "markdown",
      "metadata": {
        "id": "vhUWMzympIE6",
        "colab_type": "text"
      },
      "source": [
        "$$\n",
        "\\large\n",
        "\\begin{align}\n",
        "r_{t} &= \\sigma(W_{r}x_t + U_{r}h_{t-1} + b_{r}) \\tag{ reset gate } \\\\\n",
        "z_{t} &= \\sigma(W_{z}x_t + U_{z}h_{t-1} + b_{z}) \\tag{ update gate } \\\\\n",
        "\\tilde h_{t} &= \\tanh(W_{h}x_{t} + U_{h}(r_{t} \\odot h_{t-1}) + b_{h}) \\notag \\\\\n",
        "h_{t} &= (1-z_{t}) \\odot h_{t-1} + z_{t} \\odot \\tilde h_{t} \\tag{ hidden state}\n",
        "\\end{align}\n",
        "$$"
      ]
    },
    {
      "cell_type": "code",
      "metadata": {
        "id": "7Jorp_vzpIE7",
        "colab_type": "code",
        "colab": {}
      },
      "source": [
        "## tf.keras.layers.GRU(\n",
        "##    units, activation='tanh', recurrent_activation='sigmoid', use_bias=True,\n",
        "##    kernel_initializer='glorot_uniform', recurrent_initializer='orthogonal',\n",
        "##    bias_initializer='zeros', kernel_regularizer=None, recurrent_regularizer=None,\n",
        "##    bias_regularizer=None, activity_regularizer=None, kernel_constraint=None,\n",
        "##    recurrent_constraint=None, bias_constraint=None, dropout=0.0,\n",
        "##    recurrent_dropout=0.0, implementation=2, return_sequences=False,\n",
        "##    return_state=False, go_backwards=False, stateful=False, unroll=False,\n",
        "##    time_major=False, reset_after=True, **kwargs)"
      ],
      "execution_count": null,
      "outputs": []
    },
    {
      "cell_type": "markdown",
      "metadata": {
        "id": "znxUbLh2pIE-",
        "colab_type": "text"
      },
      "source": [
        "reset_after\n",
        "\n",
        "GRU convention (whether to apply reset gate after or before matrix multiplication). False = \"before\", True = \"after\" (default and CuDNN compatible).\n",
        "\n",
        "If reset_after = True, TensorFlow2 computes as follows:\n",
        "$$\n",
        "\\large\n",
        "\\begin{align}\n",
        "r_{t} &= \\sigma(W_{r}x_t + b_{r1} + U_{r}h_{t-1} + b_{r2}) \\tag{ reset gate } \\\\\n",
        "z_{t} &= \\sigma(W_{z}x_t + b_{z1} + U_{z}h_{t-1} + b_{z2}) \\tag{ update gate } \\\\\n",
        "\\tilde h_{t} &= \\tanh(W_{h}x_{t} + b_{h1} + U_{h}(r_{t} \\odot h_{t-1}) + b_{h2}) \\notag \\\\\n",
        "h_{t} &= (1-z_{t}) \\odot h_{t-1} + z_{t} \\odot \\tilde h_{t} \\tag{ hidden state}\n",
        "\\end{align}\n",
        "$$"
      ]
    },
    {
      "cell_type": "code",
      "metadata": {
        "id": "DfEpokLCRYjl",
        "colab_type": "code",
        "colab": {}
      },
      "source": [
        ""
      ],
      "execution_count": null,
      "outputs": []
    }
  ]
}